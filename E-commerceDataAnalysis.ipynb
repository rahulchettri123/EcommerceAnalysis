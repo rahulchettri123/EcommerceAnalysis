{
 "cells": [
  {
   "cell_type": "markdown",
   "id": "f7f9fabf",
   "metadata": {},
   "source": [
    "### Importing Libraries"
   ]
  },
  {
   "cell_type": "code",
   "execution_count": 294,
   "id": "ebc2dcff",
   "metadata": {},
   "outputs": [],
   "source": [
    "import pandas as pd \n",
    "import matplotlib.pyplot as plt\n",
    "import seaborn as sns\n",
    "import numpy as np\n",
    "%matplotlib inline"
   ]
  },
  {
   "cell_type": "code",
   "execution_count": 295,
   "id": "2ac04de3",
   "metadata": {},
   "outputs": [],
   "source": [
    "pd.options.mode.chained_assignment = None #turn off the SettingWithCopyWarning warning that is raised \n",
    "#when assigning values to a slice of a DataFrame."
   ]
  },
  {
   "cell_type": "code",
   "execution_count": 296,
   "id": "7d609e70",
   "metadata": {},
   "outputs": [],
   "source": [
    "#This code sets some default configurations for Matplotlib plots by updating the rcParams dictionary.\n",
    "plt.rcParams.update(\n",
    "    {\"font.size\": 10, \"figure.facecolor\": \"w\", \"axes.facecolor\": \"w\", \"axes.spines.right\": False,\"axes.spines.top\"\n",
    "        : False, \"axes.spines.bottom\": False,\n",
    "        \"xtick.top\": False,\n",
    "        \"xtick.bottom\": False,\n",
    "        \"ytick.right\": False,\n",
    "        \"ytick.left\": False,\n",
    "    }\n",
    ")"
   ]
  },
  {
   "cell_type": "markdown",
   "id": "76b88237",
   "metadata": {},
   "source": [
    "When i tried to read .CSV file, it throw an error, which basically occurs when the Python interpreter is unable to decode a byte sequence in the file using the UTF-8 character encoding. \n",
    "\n",
    "so in that case i used following statement to figure out the type of encoding, and used that encoding to read data.csv file"
   ]
  },
  {
   "cell_type": "code",
   "execution_count": 12,
   "id": "af9ae721",
   "metadata": {},
   "outputs": [],
   "source": [
    "import chardet\n",
    "with open(\"data.csv\", \"rb\") as f:\n",
    "    result = chardet.detect(f.read())\n",
    "    file_encoding = result[\"encoding\"]\n",
    "\n",
    "# read CSV file with detected encoding\n",
    "df = pd.read_csv(\"data.csv\", encoding=file_encoding)\n"
   ]
  },
  {
   "cell_type": "markdown",
   "id": "be52af4f",
   "metadata": {},
   "source": [
    "Now in order to covert and create our .csv file into encoding of UTF-8, i have used : to_csv()"
   ]
  },
  {
   "cell_type": "code",
   "execution_count": 13,
   "id": "123b7039",
   "metadata": {},
   "outputs": [],
   "source": [
    "df.to_csv(\"ecommerce_data.csv\", index=False, encoding=\"utf-8\")"
   ]
  },
  {
   "cell_type": "markdown",
   "id": "92d6ffa5",
   "metadata": {},
   "source": [
    "Now finally we are able to read our new .csv file having encoding : UTF-8"
   ]
  },
  {
   "cell_type": "code",
   "execution_count": 297,
   "id": "18bde9bb",
   "metadata": {},
   "outputs": [],
   "source": [
    "data = pd.read_csv(\"ecommerce_data.csv\")"
   ]
  },
  {
   "cell_type": "markdown",
   "id": "cf17de0f",
   "metadata": {},
   "source": [
    "### Data Wrangling"
   ]
  },
  {
   "cell_type": "code",
   "execution_count": 298,
   "id": "b5b43129",
   "metadata": {},
   "outputs": [
    {
     "name": "stdout",
     "output_type": "stream",
     "text": [
      "<class 'pandas.core.frame.DataFrame'>\n",
      "RangeIndex: 541909 entries, 0 to 541908\n",
      "Data columns (total 8 columns):\n",
      " #   Column       Non-Null Count   Dtype  \n",
      "---  ------       --------------   -----  \n",
      " 0   InvoiceNo    541909 non-null  object \n",
      " 1   StockCode    541909 non-null  object \n",
      " 2   Description  540455 non-null  object \n",
      " 3   Quantity     541909 non-null  int64  \n",
      " 4   InvoiceDate  541909 non-null  object \n",
      " 5   UnitPrice    541909 non-null  float64\n",
      " 6   CustomerID   406829 non-null  float64\n",
      " 7   Country      541909 non-null  object \n",
      "dtypes: float64(2), int64(1), object(5)\n",
      "memory usage: 33.1+ MB\n"
     ]
    }
   ],
   "source": [
    "data.info() #overall view"
   ]
  },
  {
   "cell_type": "code",
   "execution_count": 299,
   "id": "2ca54804",
   "metadata": {},
   "outputs": [
    {
     "data": {
      "text/html": [
       "<div>\n",
       "<style scoped>\n",
       "    .dataframe tbody tr th:only-of-type {\n",
       "        vertical-align: middle;\n",
       "    }\n",
       "\n",
       "    .dataframe tbody tr th {\n",
       "        vertical-align: top;\n",
       "    }\n",
       "\n",
       "    .dataframe thead th {\n",
       "        text-align: right;\n",
       "    }\n",
       "</style>\n",
       "<table border=\"1\" class=\"dataframe\">\n",
       "  <thead>\n",
       "    <tr style=\"text-align: right;\">\n",
       "      <th></th>\n",
       "      <th>Quantity</th>\n",
       "      <th>UnitPrice</th>\n",
       "      <th>CustomerID</th>\n",
       "    </tr>\n",
       "  </thead>\n",
       "  <tbody>\n",
       "    <tr>\n",
       "      <th>count</th>\n",
       "      <td>541909.000000</td>\n",
       "      <td>541909.000000</td>\n",
       "      <td>406829.000000</td>\n",
       "    </tr>\n",
       "    <tr>\n",
       "      <th>mean</th>\n",
       "      <td>9.552250</td>\n",
       "      <td>4.611114</td>\n",
       "      <td>15287.690570</td>\n",
       "    </tr>\n",
       "    <tr>\n",
       "      <th>std</th>\n",
       "      <td>218.081158</td>\n",
       "      <td>96.759853</td>\n",
       "      <td>1713.600303</td>\n",
       "    </tr>\n",
       "    <tr>\n",
       "      <th>min</th>\n",
       "      <td>-80995.000000</td>\n",
       "      <td>-11062.060000</td>\n",
       "      <td>12346.000000</td>\n",
       "    </tr>\n",
       "    <tr>\n",
       "      <th>25%</th>\n",
       "      <td>1.000000</td>\n",
       "      <td>1.250000</td>\n",
       "      <td>13953.000000</td>\n",
       "    </tr>\n",
       "    <tr>\n",
       "      <th>50%</th>\n",
       "      <td>3.000000</td>\n",
       "      <td>2.080000</td>\n",
       "      <td>15152.000000</td>\n",
       "    </tr>\n",
       "    <tr>\n",
       "      <th>75%</th>\n",
       "      <td>10.000000</td>\n",
       "      <td>4.130000</td>\n",
       "      <td>16791.000000</td>\n",
       "    </tr>\n",
       "    <tr>\n",
       "      <th>max</th>\n",
       "      <td>80995.000000</td>\n",
       "      <td>38970.000000</td>\n",
       "      <td>18287.000000</td>\n",
       "    </tr>\n",
       "  </tbody>\n",
       "</table>\n",
       "</div>"
      ],
      "text/plain": [
       "            Quantity      UnitPrice     CustomerID\n",
       "count  541909.000000  541909.000000  406829.000000\n",
       "mean        9.552250       4.611114   15287.690570\n",
       "std       218.081158      96.759853    1713.600303\n",
       "min    -80995.000000  -11062.060000   12346.000000\n",
       "25%         1.000000       1.250000   13953.000000\n",
       "50%         3.000000       2.080000   15152.000000\n",
       "75%        10.000000       4.130000   16791.000000\n",
       "max     80995.000000   38970.000000   18287.000000"
      ]
     },
     "execution_count": 299,
     "metadata": {},
     "output_type": "execute_result"
    }
   ],
   "source": [
    "data.describe() #looking at numeric info"
   ]
  },
  {
   "cell_type": "code",
   "execution_count": 300,
   "id": "271486db",
   "metadata": {},
   "outputs": [
    {
     "data": {
      "text/plain": [
       "(541909, 8)"
      ]
     },
     "execution_count": 300,
     "metadata": {},
     "output_type": "execute_result"
    }
   ],
   "source": [
    "data.shape #check Dimension"
   ]
  },
  {
   "cell_type": "markdown",
   "id": "57396101",
   "metadata": {},
   "source": [
    "### Cleaning up the data!"
   ]
  },
  {
   "cell_type": "markdown",
   "id": "9c134403",
   "metadata": {},
   "source": [
    "#### check for dublicates"
   ]
  },
  {
   "cell_type": "code",
   "execution_count": 301,
   "id": "ea9044f6",
   "metadata": {},
   "outputs": [
    {
     "data": {
      "text/plain": [
       "5268"
      ]
     },
     "execution_count": 301,
     "metadata": {},
     "output_type": "execute_result"
    }
   ],
   "source": [
    "data.duplicated().sum()"
   ]
  },
  {
   "cell_type": "markdown",
   "id": "b862821d",
   "metadata": {},
   "source": [
    "There are 5268 rows duplicated"
   ]
  },
  {
   "cell_type": "code",
   "execution_count": 302,
   "id": "e2bce448",
   "metadata": {},
   "outputs": [],
   "source": [
    "data = data.drop_duplicates()"
   ]
  },
  {
   "cell_type": "code",
   "execution_count": 303,
   "id": "9ed42716",
   "metadata": {},
   "outputs": [
    {
     "data": {
      "text/plain": [
       "0"
      ]
     },
     "execution_count": 303,
     "metadata": {},
     "output_type": "execute_result"
    }
   ],
   "source": [
    "#check again \n",
    "data.duplicated().sum()"
   ]
  },
  {
   "cell_type": "markdown",
   "id": "3e9d5977",
   "metadata": {},
   "source": [
    "#### Missing Values"
   ]
  },
  {
   "cell_type": "code",
   "execution_count": 304,
   "id": "caba6955",
   "metadata": {},
   "outputs": [
    {
     "name": "stdout",
     "output_type": "stream",
     "text": [
      "InvoiceNo - 0.0%\n",
      "StockCode - 0.0%\n",
      "Description - 0.3%\n",
      "Quantity - 0.0%\n",
      "InvoiceDate - 0.0%\n",
      "UnitPrice - 0.0%\n",
      "CustomerID - 25.2%\n",
      "Country - 0.0%\n"
     ]
    }
   ],
   "source": [
    "#Checking Null Values\n",
    "for col in data.columns:\n",
    "    pct_missing = data[col].isnull().mean()\n",
    "    print(f'{col} - {pct_missing :.1%}')"
   ]
  },
  {
   "cell_type": "markdown",
   "id": "85260365",
   "metadata": {},
   "source": [
    "This shows that there is missing values in columns : Description and Customer ID"
   ]
  },
  {
   "cell_type": "markdown",
   "id": "f4f3ea02",
   "metadata": {},
   "source": [
    "#### Handling missing values"
   ]
  },
  {
   "cell_type": "code",
   "execution_count": 305,
   "id": "cd3b471b",
   "metadata": {},
   "outputs": [],
   "source": [
    "#make a copy \n",
    "copy = data.copy()"
   ]
  },
  {
   "cell_type": "code",
   "execution_count": 306,
   "id": "ec1c9352",
   "metadata": {},
   "outputs": [],
   "source": [
    "#dealing with the missing value in our main data\n",
    "data['Description'] = data['Description'].fillna(\"Unknown\")\n",
    "data['CustomerID'] = data['CustomerID'].fillna(0)"
   ]
  },
  {
   "cell_type": "code",
   "execution_count": 307,
   "id": "153251c9",
   "metadata": {},
   "outputs": [
    {
     "data": {
      "text/plain": [
       "InvoiceNo      0\n",
       "StockCode      0\n",
       "Description    0\n",
       "Quantity       0\n",
       "InvoiceDate    0\n",
       "UnitPrice      0\n",
       "CustomerID     0\n",
       "Country        0\n",
       "dtype: int64"
      ]
     },
     "execution_count": 307,
     "metadata": {},
     "output_type": "execute_result"
    }
   ],
   "source": [
    "data.isna().sum()"
   ]
  },
  {
   "cell_type": "markdown",
   "id": "939a00d5",
   "metadata": {},
   "source": [
    "Now we can proceed further as our data set is clean"
   ]
  },
  {
   "cell_type": "markdown",
   "id": "a2335fe5",
   "metadata": {},
   "source": [
    "### DataType"
   ]
  },
  {
   "cell_type": "markdown",
   "id": "d1049edf",
   "metadata": {},
   "source": [
    "#### Convert column with proper datatype"
   ]
  },
  {
   "cell_type": "code",
   "execution_count": 308,
   "id": "8dbb266a",
   "metadata": {},
   "outputs": [],
   "source": [
    "data['InvoiceDate'] = pd.to_datetime(data['InvoiceDate'])\n",
    "data['Quantity'] = pd.to_numeric(data['Quantity'])\n",
    "data['UnitPrice'] = pd.to_numeric(data['UnitPrice'])"
   ]
  },
  {
   "cell_type": "code",
   "execution_count": 309,
   "id": "abc98537",
   "metadata": {},
   "outputs": [],
   "source": [
    "#creating a separate column for time \n",
    "data['Time'] = data['InvoiceDate'].dt.time\n",
    "#creating a separate column for month \n",
    "data['Month'] = data['InvoiceDate'].dt.month_name()\n",
    "#creating a separate column for day name\n",
    "data['Day'] = data['InvoiceDate'].dt.day_name()\n",
    "#creating a column for year\n",
    "data['Year']= data['InvoiceDate'].dt.year\n"
   ]
  },
  {
   "cell_type": "code",
   "execution_count": 310,
   "id": "2b8d966b",
   "metadata": {},
   "outputs": [],
   "source": [
    "#creating a column for total\n",
    "data['Total'] = data['Quantity']*data['UnitPrice']"
   ]
  },
  {
   "cell_type": "markdown",
   "id": "525e1d1c",
   "metadata": {},
   "source": [
    "### Structuring"
   ]
  },
  {
   "cell_type": "code",
   "execution_count": 311,
   "id": "edcf18e8",
   "metadata": {},
   "outputs": [
    {
     "data": {
      "text/plain": [
       "<AxesSubplot:ylabel='UnitPrice'>"
      ]
     },
     "execution_count": 311,
     "metadata": {},
     "output_type": "execute_result"
    },
    {
     "data": {
      "image/png": "[encoded data removed]",
      "text/plain": [
       "<Figure size 432x288 with 1 Axes>"
      ]
     },
     "metadata": {},
     "output_type": "display_data"
    }
   ],
   "source": [
    "#Check Unit Price `s Distribution\n",
    "sns.boxplot( y= 'UnitPrice' ,data =data)"
   ]
  },
  {
   "cell_type": "markdown",
   "id": "0dd30c75",
   "metadata": {},
   "source": [
    "It seems that there are values in UnitPrice column which are under 0"
   ]
  },
  {
   "cell_type": "code",
   "execution_count": 312,
   "id": "14b51391",
   "metadata": {},
   "outputs": [
    {
     "data": {
      "text/html": [
       "<div>\n",
       "<style scoped>\n",
       "    .dataframe tbody tr th:only-of-type {\n",
       "        vertical-align: middle;\n",
       "    }\n",
       "\n",
       "    .dataframe tbody tr th {\n",
       "        vertical-align: top;\n",
       "    }\n",
       "\n",
       "    .dataframe thead th {\n",
       "        text-align: right;\n",
       "    }\n",
       "</style>\n",
       "<table border=\"1\" class=\"dataframe\">\n",
       "  <thead>\n",
       "    <tr style=\"text-align: right;\">\n",
       "      <th></th>\n",
       "      <th>InvoiceNo</th>\n",
       "      <th>StockCode</th>\n",
       "      <th>Description</th>\n",
       "      <th>Quantity</th>\n",
       "      <th>InvoiceDate</th>\n",
       "      <th>UnitPrice</th>\n",
       "      <th>CustomerID</th>\n",
       "      <th>Country</th>\n",
       "      <th>Time</th>\n",
       "      <th>Month</th>\n",
       "      <th>Day</th>\n",
       "      <th>Year</th>\n",
       "      <th>Total</th>\n",
       "    </tr>\n",
       "  </thead>\n",
       "  <tbody>\n",
       "    <tr>\n",
       "      <th>299983</th>\n",
       "      <td>A563186</td>\n",
       "      <td>B</td>\n",
       "      <td>Adjust bad debt</td>\n",
       "      <td>1</td>\n",
       "      <td>2011-08-12 14:51:00</td>\n",
       "      <td>-11062.06</td>\n",
       "      <td>0.0</td>\n",
       "      <td>United Kingdom</td>\n",
       "      <td>14:51:00</td>\n",
       "      <td>August</td>\n",
       "      <td>Friday</td>\n",
       "      <td>2011</td>\n",
       "      <td>-11062.06</td>\n",
       "    </tr>\n",
       "    <tr>\n",
       "      <th>299984</th>\n",
       "      <td>A563187</td>\n",
       "      <td>B</td>\n",
       "      <td>Adjust bad debt</td>\n",
       "      <td>1</td>\n",
       "      <td>2011-08-12 14:52:00</td>\n",
       "      <td>-11062.06</td>\n",
       "      <td>0.0</td>\n",
       "      <td>United Kingdom</td>\n",
       "      <td>14:52:00</td>\n",
       "      <td>August</td>\n",
       "      <td>Friday</td>\n",
       "      <td>2011</td>\n",
       "      <td>-11062.06</td>\n",
       "    </tr>\n",
       "  </tbody>\n",
       "</table>\n",
       "</div>"
      ],
      "text/plain": [
       "       InvoiceNo StockCode      Description  Quantity         InvoiceDate  \\\n",
       "299983   A563186         B  Adjust bad debt         1 2011-08-12 14:51:00   \n",
       "299984   A563187         B  Adjust bad debt         1 2011-08-12 14:52:00   \n",
       "\n",
       "        UnitPrice  CustomerID         Country      Time   Month     Day  Year  \\\n",
       "299983  -11062.06         0.0  United Kingdom  14:51:00  August  Friday  2011   \n",
       "299984  -11062.06         0.0  United Kingdom  14:52:00  August  Friday  2011   \n",
       "\n",
       "           Total  \n",
       "299983 -11062.06  \n",
       "299984 -11062.06  "
      ]
     },
     "execution_count": 312,
     "metadata": {},
     "output_type": "execute_result"
    }
   ],
   "source": [
    "data[data['UnitPrice'] < 0 ]"
   ]
  },
  {
   "cell_type": "markdown",
   "id": "35da2324",
   "metadata": {},
   "source": [
    "These are debt which are not required, so we remove them"
   ]
  },
  {
   "cell_type": "markdown",
   "id": "c9fb1659",
   "metadata": {},
   "source": [
    "There are some invoices which are debt, which we don't need in our analysis, these invoices are associated \n",
    "with description having word \"dept\". \n",
    "\n",
    "#### Now to remove rows that contains word \"debt\" or \"DEBT\" we can use below code"
   ]
  },
  {
   "cell_type": "code",
   "execution_count": 313,
   "id": "68c380b6",
   "metadata": {},
   "outputs": [],
   "source": [
    "mask = data['Description'].str.contains('debt', case=False)\n",
    "# Invert mask and use boolean indexing to filter out rows\n",
    "data = data[~mask]"
   ]
  },
  {
   "cell_type": "code",
   "execution_count": 314,
   "id": "4d7e9883",
   "metadata": {},
   "outputs": [],
   "source": [
    "data = data[data['UnitPrice']>0] #filtering our data"
   ]
  },
  {
   "cell_type": "code",
   "execution_count": 315,
   "id": "e8d589c2",
   "metadata": {},
   "outputs": [
    {
     "data": {
      "text/plain": [
       "0.001"
      ]
     },
     "execution_count": 315,
     "metadata": {},
     "output_type": "execute_result"
    }
   ],
   "source": [
    "#check the minimum\n",
    "data['UnitPrice'].min()"
   ]
  },
  {
   "cell_type": "markdown",
   "id": "d88c6b28",
   "metadata": {},
   "source": [
    "Now let us also check for Quantity's distribution"
   ]
  },
  {
   "cell_type": "code",
   "execution_count": 316,
   "id": "0f88f9d3",
   "metadata": {},
   "outputs": [
    {
     "data": {
      "text/plain": [
       "<AxesSubplot:ylabel='Quantity'>"
      ]
     },
     "execution_count": 316,
     "metadata": {},
     "output_type": "execute_result"
    },
    {
     "data": {
      "image/png": "[encoded data removed]",
      "text/plain": [
       "<Figure size 432x288 with 1 Axes>"
      ]
     },
     "metadata": {},
     "output_type": "display_data"
    }
   ],
   "source": [
    "#Check Quantity's Distribution\n",
    "sns.boxplot( y= 'Quantity' ,data =data)"
   ]
  },
  {
   "cell_type": "markdown",
   "id": "4e4ebadd",
   "metadata": {},
   "source": [
    "This means that there are values in column Quantity which are under 0,\n",
    "which happens when there is a cancelled purchase"
   ]
  },
  {
   "cell_type": "code",
   "execution_count": 317,
   "id": "2ebe598d",
   "metadata": {},
   "outputs": [
    {
     "data": {
      "text/html": [
       "<div>\n",
       "<style scoped>\n",
       "    .dataframe tbody tr th:only-of-type {\n",
       "        vertical-align: middle;\n",
       "    }\n",
       "\n",
       "    .dataframe tbody tr th {\n",
       "        vertical-align: top;\n",
       "    }\n",
       "\n",
       "    .dataframe thead th {\n",
       "        text-align: right;\n",
       "    }\n",
       "</style>\n",
       "<table border=\"1\" class=\"dataframe\">\n",
       "  <thead>\n",
       "    <tr style=\"text-align: right;\">\n",
       "      <th></th>\n",
       "      <th>InvoiceNo</th>\n",
       "      <th>StockCode</th>\n",
       "      <th>Description</th>\n",
       "      <th>Quantity</th>\n",
       "      <th>InvoiceDate</th>\n",
       "      <th>UnitPrice</th>\n",
       "      <th>CustomerID</th>\n",
       "      <th>Country</th>\n",
       "      <th>Time</th>\n",
       "      <th>Month</th>\n",
       "      <th>Day</th>\n",
       "      <th>Year</th>\n",
       "      <th>Total</th>\n",
       "    </tr>\n",
       "  </thead>\n",
       "  <tbody>\n",
       "    <tr>\n",
       "      <th>141</th>\n",
       "      <td>C536379</td>\n",
       "      <td>D</td>\n",
       "      <td>Discount</td>\n",
       "      <td>-1</td>\n",
       "      <td>2010-12-01 09:41:00</td>\n",
       "      <td>27.50</td>\n",
       "      <td>14527.0</td>\n",
       "      <td>United Kingdom</td>\n",
       "      <td>09:41:00</td>\n",
       "      <td>December</td>\n",
       "      <td>Wednesday</td>\n",
       "      <td>2010</td>\n",
       "      <td>-27.50</td>\n",
       "    </tr>\n",
       "    <tr>\n",
       "      <th>154</th>\n",
       "      <td>C536383</td>\n",
       "      <td>35004C</td>\n",
       "      <td>SET OF 3 COLOURED  FLYING DUCKS</td>\n",
       "      <td>-1</td>\n",
       "      <td>2010-12-01 09:49:00</td>\n",
       "      <td>4.65</td>\n",
       "      <td>15311.0</td>\n",
       "      <td>United Kingdom</td>\n",
       "      <td>09:49:00</td>\n",
       "      <td>December</td>\n",
       "      <td>Wednesday</td>\n",
       "      <td>2010</td>\n",
       "      <td>-4.65</td>\n",
       "    </tr>\n",
       "    <tr>\n",
       "      <th>235</th>\n",
       "      <td>C536391</td>\n",
       "      <td>22556</td>\n",
       "      <td>PLASTERS IN TIN CIRCUS PARADE</td>\n",
       "      <td>-12</td>\n",
       "      <td>2010-12-01 10:24:00</td>\n",
       "      <td>1.65</td>\n",
       "      <td>17548.0</td>\n",
       "      <td>United Kingdom</td>\n",
       "      <td>10:24:00</td>\n",
       "      <td>December</td>\n",
       "      <td>Wednesday</td>\n",
       "      <td>2010</td>\n",
       "      <td>-19.80</td>\n",
       "    </tr>\n",
       "    <tr>\n",
       "      <th>236</th>\n",
       "      <td>C536391</td>\n",
       "      <td>21984</td>\n",
       "      <td>PACK OF 12 PINK PAISLEY TISSUES</td>\n",
       "      <td>-24</td>\n",
       "      <td>2010-12-01 10:24:00</td>\n",
       "      <td>0.29</td>\n",
       "      <td>17548.0</td>\n",
       "      <td>United Kingdom</td>\n",
       "      <td>10:24:00</td>\n",
       "      <td>December</td>\n",
       "      <td>Wednesday</td>\n",
       "      <td>2010</td>\n",
       "      <td>-6.96</td>\n",
       "    </tr>\n",
       "    <tr>\n",
       "      <th>237</th>\n",
       "      <td>C536391</td>\n",
       "      <td>21983</td>\n",
       "      <td>PACK OF 12 BLUE PAISLEY TISSUES</td>\n",
       "      <td>-24</td>\n",
       "      <td>2010-12-01 10:24:00</td>\n",
       "      <td>0.29</td>\n",
       "      <td>17548.0</td>\n",
       "      <td>United Kingdom</td>\n",
       "      <td>10:24:00</td>\n",
       "      <td>December</td>\n",
       "      <td>Wednesday</td>\n",
       "      <td>2010</td>\n",
       "      <td>-6.96</td>\n",
       "    </tr>\n",
       "    <tr>\n",
       "      <th>...</th>\n",
       "      <td>...</td>\n",
       "      <td>...</td>\n",
       "      <td>...</td>\n",
       "      <td>...</td>\n",
       "      <td>...</td>\n",
       "      <td>...</td>\n",
       "      <td>...</td>\n",
       "      <td>...</td>\n",
       "      <td>...</td>\n",
       "      <td>...</td>\n",
       "      <td>...</td>\n",
       "      <td>...</td>\n",
       "      <td>...</td>\n",
       "    </tr>\n",
       "    <tr>\n",
       "      <th>540449</th>\n",
       "      <td>C581490</td>\n",
       "      <td>23144</td>\n",
       "      <td>ZINC T-LIGHT HOLDER STARS SMALL</td>\n",
       "      <td>-11</td>\n",
       "      <td>2011-12-09 09:57:00</td>\n",
       "      <td>0.83</td>\n",
       "      <td>14397.0</td>\n",
       "      <td>United Kingdom</td>\n",
       "      <td>09:57:00</td>\n",
       "      <td>December</td>\n",
       "      <td>Friday</td>\n",
       "      <td>2011</td>\n",
       "      <td>-9.13</td>\n",
       "    </tr>\n",
       "    <tr>\n",
       "      <th>541541</th>\n",
       "      <td>C581499</td>\n",
       "      <td>M</td>\n",
       "      <td>Manual</td>\n",
       "      <td>-1</td>\n",
       "      <td>2011-12-09 10:28:00</td>\n",
       "      <td>224.69</td>\n",
       "      <td>15498.0</td>\n",
       "      <td>United Kingdom</td>\n",
       "      <td>10:28:00</td>\n",
       "      <td>December</td>\n",
       "      <td>Friday</td>\n",
       "      <td>2011</td>\n",
       "      <td>-224.69</td>\n",
       "    </tr>\n",
       "    <tr>\n",
       "      <th>541715</th>\n",
       "      <td>C581568</td>\n",
       "      <td>21258</td>\n",
       "      <td>VICTORIAN SEWING BOX LARGE</td>\n",
       "      <td>-5</td>\n",
       "      <td>2011-12-09 11:57:00</td>\n",
       "      <td>10.95</td>\n",
       "      <td>15311.0</td>\n",
       "      <td>United Kingdom</td>\n",
       "      <td>11:57:00</td>\n",
       "      <td>December</td>\n",
       "      <td>Friday</td>\n",
       "      <td>2011</td>\n",
       "      <td>-54.75</td>\n",
       "    </tr>\n",
       "    <tr>\n",
       "      <th>541716</th>\n",
       "      <td>C581569</td>\n",
       "      <td>84978</td>\n",
       "      <td>HANGING HEART JAR T-LIGHT HOLDER</td>\n",
       "      <td>-1</td>\n",
       "      <td>2011-12-09 11:58:00</td>\n",
       "      <td>1.25</td>\n",
       "      <td>17315.0</td>\n",
       "      <td>United Kingdom</td>\n",
       "      <td>11:58:00</td>\n",
       "      <td>December</td>\n",
       "      <td>Friday</td>\n",
       "      <td>2011</td>\n",
       "      <td>-1.25</td>\n",
       "    </tr>\n",
       "    <tr>\n",
       "      <th>541717</th>\n",
       "      <td>C581569</td>\n",
       "      <td>20979</td>\n",
       "      <td>36 PENCILS TUBE RED RETROSPOT</td>\n",
       "      <td>-5</td>\n",
       "      <td>2011-12-09 11:58:00</td>\n",
       "      <td>1.25</td>\n",
       "      <td>17315.0</td>\n",
       "      <td>United Kingdom</td>\n",
       "      <td>11:58:00</td>\n",
       "      <td>December</td>\n",
       "      <td>Friday</td>\n",
       "      <td>2011</td>\n",
       "      <td>-6.25</td>\n",
       "    </tr>\n",
       "  </tbody>\n",
       "</table>\n",
       "<p>9251 rows × 13 columns</p>\n",
       "</div>"
      ],
      "text/plain": [
       "       InvoiceNo StockCode                       Description  Quantity  \\\n",
       "141      C536379         D                          Discount        -1   \n",
       "154      C536383    35004C   SET OF 3 COLOURED  FLYING DUCKS        -1   \n",
       "235      C536391     22556    PLASTERS IN TIN CIRCUS PARADE        -12   \n",
       "236      C536391     21984  PACK OF 12 PINK PAISLEY TISSUES        -24   \n",
       "237      C536391     21983  PACK OF 12 BLUE PAISLEY TISSUES        -24   \n",
       "...          ...       ...                               ...       ...   \n",
       "540449   C581490     23144   ZINC T-LIGHT HOLDER STARS SMALL       -11   \n",
       "541541   C581499         M                            Manual        -1   \n",
       "541715   C581568     21258        VICTORIAN SEWING BOX LARGE        -5   \n",
       "541716   C581569     84978  HANGING HEART JAR T-LIGHT HOLDER        -1   \n",
       "541717   C581569     20979     36 PENCILS TUBE RED RETROSPOT        -5   \n",
       "\n",
       "               InvoiceDate  UnitPrice  CustomerID         Country      Time  \\\n",
       "141    2010-12-01 09:41:00      27.50     14527.0  United Kingdom  09:41:00   \n",
       "154    2010-12-01 09:49:00       4.65     15311.0  United Kingdom  09:49:00   \n",
       "235    2010-12-01 10:24:00       1.65     17548.0  United Kingdom  10:24:00   \n",
       "236    2010-12-01 10:24:00       0.29     17548.0  United Kingdom  10:24:00   \n",
       "237    2010-12-01 10:24:00       0.29     17548.0  United Kingdom  10:24:00   \n",
       "...                    ...        ...         ...             ...       ...   \n",
       "540449 2011-12-09 09:57:00       0.83     14397.0  United Kingdom  09:57:00   \n",
       "541541 2011-12-09 10:28:00     224.69     15498.0  United Kingdom  10:28:00   \n",
       "541715 2011-12-09 11:57:00      10.95     15311.0  United Kingdom  11:57:00   \n",
       "541716 2011-12-09 11:58:00       1.25     17315.0  United Kingdom  11:58:00   \n",
       "541717 2011-12-09 11:58:00       1.25     17315.0  United Kingdom  11:58:00   \n",
       "\n",
       "           Month        Day  Year   Total  \n",
       "141     December  Wednesday  2010  -27.50  \n",
       "154     December  Wednesday  2010   -4.65  \n",
       "235     December  Wednesday  2010  -19.80  \n",
       "236     December  Wednesday  2010   -6.96  \n",
       "237     December  Wednesday  2010   -6.96  \n",
       "...          ...        ...   ...     ...  \n",
       "540449  December     Friday  2011   -9.13  \n",
       "541541  December     Friday  2011 -224.69  \n",
       "541715  December     Friday  2011  -54.75  \n",
       "541716  December     Friday  2011   -1.25  \n",
       "541717  December     Friday  2011   -6.25  \n",
       "\n",
       "[9251 rows x 13 columns]"
      ]
     },
     "execution_count": 317,
     "metadata": {},
     "output_type": "execute_result"
    }
   ],
   "source": [
    "data[data['Quantity'] < 0]"
   ]
  },
  {
   "cell_type": "markdown",
   "id": "e5545423",
   "metadata": {},
   "source": [
    "Now we can create a separate data frame for cancelled purchases"
   ]
  },
  {
   "cell_type": "code",
   "execution_count": 318,
   "id": "6d2b87f9",
   "metadata": {},
   "outputs": [],
   "source": [
    "cancelled_purchases = data[data['Quantity'] < 0]"
   ]
  },
  {
   "cell_type": "markdown",
   "id": "4b27c49e",
   "metadata": {},
   "source": [
    "Now let's remove the cancelled purchases from our dataframe"
   ]
  },
  {
   "cell_type": "code",
   "execution_count": 319,
   "id": "14e2f0de",
   "metadata": {},
   "outputs": [],
   "source": [
    "data = data[data['Quantity'] > 0] #we modified our dataframe data to contain only purchased product"
   ]
  },
  {
   "cell_type": "code",
   "execution_count": 320,
   "id": "984bf6a6",
   "metadata": {},
   "outputs": [
    {
     "data": {
      "text/plain": [
       "1"
      ]
     },
     "execution_count": 320,
     "metadata": {},
     "output_type": "execute_result"
    }
   ],
   "source": [
    "data['Quantity'].min() # check min to confirm for positive quantity"
   ]
  },
  {
   "cell_type": "markdown",
   "id": "73789d48",
   "metadata": {},
   "source": [
    "## Analysis"
   ]
  },
  {
   "cell_type": "markdown",
   "id": "2d03572f",
   "metadata": {},
   "source": [
    "#### 1) What was the best month for sales?"
   ]
  },
  {
   "cell_type": "code",
   "execution_count": 321,
   "id": "285831bd",
   "metadata": {},
   "outputs": [],
   "source": [
    "#[['Total']] means that it will sum up on Total field and display as Month | Total\n",
    "sales_2010 = data[data['Year']== 2010].groupby('Month').sum()[['Total']].reset_index()\n",
    "sales_2011 = data[data['Year']== 2011].groupby('Month').sum()[['Total']].reset_index()"
   ]
  },
  {
   "cell_type": "code",
   "execution_count": 322,
   "id": "74ce3022",
   "metadata": {},
   "outputs": [],
   "source": [
    "#let's get a list of years to know which years are present\n",
    "years = data['Year'].unique() "
   ]
  },
  {
   "cell_type": "code",
   "execution_count": 323,
   "id": "023dfdb5",
   "metadata": {},
   "outputs": [
    {
     "name": "stdout",
     "output_type": "stream",
     "text": [
      "[2010 2011]\n"
     ]
    }
   ],
   "source": [
    "print(years)"
   ]
  },
  {
   "cell_type": "code",
   "execution_count": 324,
   "id": "2441d869",
   "metadata": {},
   "outputs": [
    {
     "data": {
      "image/png": "[encoded data removed]",
      "text/plain": [
       "<Figure size 432x288 with 1 Axes>"
      ]
     },
     "metadata": {},
     "output_type": "display_data"
    }
   ],
   "source": [
    "plt.bar(sales_2010[\"Month\"],sales_2010['Total']/1000, label='2010 Sales', color='blue')\n",
    "plt.bar(sales_2011[\"Month\"],sales_2011['Total']/1000, label='2011 Sales', color='orange')\n",
    "plt.xticks(rotation = 'vertical',size = 8)\n",
    "plt.ylabel(\"Sales (thousand)\")\n",
    "plt.xlabel(\"Month\")\n",
    "plt.legend()\n",
    "plt.show()\n",
    "#we can use plt.savefig('my_plot.png') to save the plot, but remove plt.show()"
   ]
  },
  {
   "cell_type": "markdown",
   "id": "a3fa5034",
   "metadata": {},
   "source": [
    "Based on the analysis, it was found that the month with the highest total sales in 2011 was November, followed by October and September, while April and February had the least total sales. As for the year 2010, data was only available for December."
   ]
  },
  {
   "cell_type": "markdown",
   "id": "a1f7c881",
   "metadata": {},
   "source": [
    "#### 2) What time should we display advertisements to maximize likelihood of customer's buying product?"
   ]
  },
  {
   "cell_type": "code",
   "execution_count": 325,
   "id": "4d808eb3",
   "metadata": {},
   "outputs": [],
   "source": [
    "#lets create a new column for hours, fetched from InvoiceDate field\n",
    "data['Hour']=data['InvoiceDate'].dt.hour"
   ]
  },
  {
   "cell_type": "code",
   "execution_count": 326,
   "id": "32db0160",
   "metadata": {},
   "outputs": [],
   "source": [
    "BestTimeAdds = data.groupby('Hour').count().reset_index()"
   ]
  },
  {
   "cell_type": "code",
   "execution_count": 327,
   "id": "9f8893f0",
   "metadata": {},
   "outputs": [
    {
     "data": {
      "image/png": "[encoded data removed]",
      "text/plain": [
       "<Figure size 432x288 with 1 Axes>"
      ]
     },
     "metadata": {},
     "output_type": "display_data"
    }
   ],
   "source": [
    "from matplotlib.ticker import StrMethodFormatter\n",
    "plt.plot(BestTimeAdds['Hour'],BestTimeAdds['InvoiceNo']/1000)\n",
    "plt.xlabel('Hour')\n",
    "plt.ylabel('Sales')\n",
    "plt.grid()\n",
    "formatter = StrMethodFormatter('{x:.0f}k')\n",
    "plt.gca().yaxis.set_major_formatter(formatter)\n",
    "plt.show()"
   ]
  },
  {
   "cell_type": "markdown",
   "id": "b1c562bf",
   "metadata": {},
   "source": [
    "According to the data, the ideal time for this e-commerce company to run ads is between 12PM and 3PM as this \n",
    "time period yields the highest sales. \n",
    "\n",
    "It is possible that this is because customers are more likely to be available during their break times and are \n",
    "more likely to use their mobile devices or computers during these hours."
   ]
  },
  {
   "cell_type": "markdown",
   "id": "ce8056e0",
   "metadata": {},
   "source": [
    "#### 3) What Products are most often sold together"
   ]
  },
  {
   "cell_type": "code",
   "execution_count": 328,
   "id": "f8a44ac0",
   "metadata": {},
   "outputs": [],
   "source": [
    "soldTogether = data.groupby(\"InvoiceNo\")['Description'].agg(lambda x : \" , \".join(x)).reset_index()"
   ]
  },
  {
   "cell_type": "code",
   "execution_count": 329,
   "id": "9e0d220c",
   "metadata": {},
   "outputs": [
    {
     "data": {
      "text/html": [
       "<div>\n",
       "<style scoped>\n",
       "    .dataframe tbody tr th:only-of-type {\n",
       "        vertical-align: middle;\n",
       "    }\n",
       "\n",
       "    .dataframe tbody tr th {\n",
       "        vertical-align: top;\n",
       "    }\n",
       "\n",
       "    .dataframe thead th {\n",
       "        text-align: right;\n",
       "    }\n",
       "</style>\n",
       "<table border=\"1\" class=\"dataframe\">\n",
       "  <thead>\n",
       "    <tr style=\"text-align: right;\">\n",
       "      <th></th>\n",
       "      <th>InvoiceNo</th>\n",
       "      <th>Description</th>\n",
       "    </tr>\n",
       "  </thead>\n",
       "  <tbody>\n",
       "    <tr>\n",
       "      <th>0</th>\n",
       "      <td>536365</td>\n",
       "      <td>WHITE HANGING HEART T-LIGHT HOLDER , WHITE MET...</td>\n",
       "    </tr>\n",
       "    <tr>\n",
       "      <th>1</th>\n",
       "      <td>536366</td>\n",
       "      <td>HAND WARMER UNION JACK , HAND WARMER RED POLKA...</td>\n",
       "    </tr>\n",
       "    <tr>\n",
       "      <th>2</th>\n",
       "      <td>536367</td>\n",
       "      <td>ASSORTED COLOUR BIRD ORNAMENT , POPPY'S PLAYHO...</td>\n",
       "    </tr>\n",
       "    <tr>\n",
       "      <th>3</th>\n",
       "      <td>536368</td>\n",
       "      <td>JAM MAKING SET WITH JARS , RED COAT RACK PARIS...</td>\n",
       "    </tr>\n",
       "    <tr>\n",
       "      <th>4</th>\n",
       "      <td>536369</td>\n",
       "      <td>BATH BUILDING BLOCK WORD</td>\n",
       "    </tr>\n",
       "    <tr>\n",
       "      <th>...</th>\n",
       "      <td>...</td>\n",
       "      <td>...</td>\n",
       "    </tr>\n",
       "    <tr>\n",
       "      <th>19954</th>\n",
       "      <td>581583</td>\n",
       "      <td>LUNCH BAG RED RETROSPOT , 6 CHOCOLATE LOVE HEA...</td>\n",
       "    </tr>\n",
       "    <tr>\n",
       "      <th>19955</th>\n",
       "      <td>581584</td>\n",
       "      <td>RED FLOCK LOVE HEART PHOTO FRAME , 6 CHOCOLATE...</td>\n",
       "    </tr>\n",
       "    <tr>\n",
       "      <th>19956</th>\n",
       "      <td>581585</td>\n",
       "      <td>BLACK TEA TOWEL CLASSIC DESIGN , ASSORTED BOTT...</td>\n",
       "    </tr>\n",
       "    <tr>\n",
       "      <th>19957</th>\n",
       "      <td>581586</td>\n",
       "      <td>LARGE CAKE STAND  HANGING STRAWBERY , SET OF 3...</td>\n",
       "    </tr>\n",
       "    <tr>\n",
       "      <th>19958</th>\n",
       "      <td>581587</td>\n",
       "      <td>CIRCUS PARADE LUNCH BOX  , PLASTERS IN TIN CIR...</td>\n",
       "    </tr>\n",
       "  </tbody>\n",
       "</table>\n",
       "<p>19959 rows × 2 columns</p>\n",
       "</div>"
      ],
      "text/plain": [
       "      InvoiceNo                                        Description\n",
       "0        536365  WHITE HANGING HEART T-LIGHT HOLDER , WHITE MET...\n",
       "1        536366  HAND WARMER UNION JACK , HAND WARMER RED POLKA...\n",
       "2        536367  ASSORTED COLOUR BIRD ORNAMENT , POPPY'S PLAYHO...\n",
       "3        536368  JAM MAKING SET WITH JARS , RED COAT RACK PARIS...\n",
       "4        536369                           BATH BUILDING BLOCK WORD\n",
       "...         ...                                                ...\n",
       "19954    581583  LUNCH BAG RED RETROSPOT , 6 CHOCOLATE LOVE HEA...\n",
       "19955    581584  RED FLOCK LOVE HEART PHOTO FRAME , 6 CHOCOLATE...\n",
       "19956    581585  BLACK TEA TOWEL CLASSIC DESIGN , ASSORTED BOTT...\n",
       "19957    581586  LARGE CAKE STAND  HANGING STRAWBERY , SET OF 3...\n",
       "19958    581587  CIRCUS PARADE LUNCH BOX  , PLASTERS IN TIN CIR...\n",
       "\n",
       "[19959 rows x 2 columns]"
      ]
     },
     "execution_count": 329,
     "metadata": {},
     "output_type": "execute_result"
    }
   ],
   "source": [
    "soldTogether #we got items that are sold together, separated by \",\""
   ]
  },
  {
   "cell_type": "code",
   "execution_count": 330,
   "id": "55f9b2f1",
   "metadata": {},
   "outputs": [
    {
     "name": "stdout",
     "output_type": "stream",
     "text": [
      "(' KEY FOB ', ' KEY FOB ') 743\n",
      "(' KEY FOB ', ' BACK DOOR  ') 544\n",
      "(' KEY FOB ', ' SHED ') 511\n",
      "(' JUMBO BAG PINK POLKADOT ', ' JUMBO BAG RED RETROSPOT ') 477\n",
      "(' KEY FOB ', ' FRONT  DOOR  ') 455\n",
      "(' GREEN REGENCY TEACUP AND SAUCER ', ' ROSES REGENCY TEACUP AND SAUCER  ') 443\n",
      "('COFFEE', 'SUGAR ') 432\n",
      "(' JUMBO SHOPPER VINTAGE RED PAISLEY ', ' JUMBO BAG RED RETROSPOT ') 427\n",
      "(' SET 3 RETROSPOT TEA', 'COFFEE') 426\n",
      "(' SET 3 RETROSPOT TEA', 'SUGAR ') 414\n"
     ]
    }
   ],
   "source": [
    "from itertools import combinations\n",
    "from collections import Counter \n",
    "\n",
    "count = Counter()\n",
    "for row in soldTogether['Description']:\n",
    "    row_list = row.split(\",\")\n",
    "    #item mostly solved together , here it shows 2 items sold together,we can change it to 3 \n",
    "    #to show 3 items sold together and so on ...\n",
    "    count.update(Counter(combinations(row_list,2)))\n",
    "\n",
    "#most_common is method from collections \n",
    "for key,value in count.most_common(10):\n",
    "    print(key,value)"
   ]
  },
  {
   "cell_type": "markdown",
   "id": "63963457",
   "metadata": {},
   "source": [
    "Analysis (Pair Products) : we can see that Key Fob are mostly sold with extra pair of Key Fob or with Back Door or with Shed. And so on..."
   ]
  },
  {
   "cell_type": "markdown",
   "id": "724a0c54",
   "metadata": {},
   "source": [
    "FeedBack : we can recommend our customer in buying these items while purchasing for one item, this way we can enhance sales."
   ]
  },
  {
   "cell_type": "markdown",
   "id": "fb62896e",
   "metadata": {},
   "source": [
    "#### 4) What product sold the most ? "
   ]
  },
  {
   "cell_type": "code",
   "execution_count": 331,
   "id": "4f261d68",
   "metadata": {},
   "outputs": [],
   "source": [
    "soldMost = data.groupby('Description').sum()[['Quantity']].reset_index()"
   ]
  },
  {
   "cell_type": "code",
   "execution_count": 332,
   "id": "0e811417",
   "metadata": {},
   "outputs": [
    {
     "data": {
      "text/html": [
       "<div>\n",
       "<style scoped>\n",
       "    .dataframe tbody tr th:only-of-type {\n",
       "        vertical-align: middle;\n",
       "    }\n",
       "\n",
       "    .dataframe tbody tr th {\n",
       "        vertical-align: top;\n",
       "    }\n",
       "\n",
       "    .dataframe thead th {\n",
       "        text-align: right;\n",
       "    }\n",
       "</style>\n",
       "<table border=\"1\" class=\"dataframe\">\n",
       "  <thead>\n",
       "    <tr style=\"text-align: right;\">\n",
       "      <th></th>\n",
       "      <th>Description</th>\n",
       "      <th>Quantity</th>\n",
       "    </tr>\n",
       "  </thead>\n",
       "  <tbody>\n",
       "    <tr>\n",
       "      <th>2386</th>\n",
       "      <td>PAPER CRAFT , LITTLE BIRDIE</td>\n",
       "      <td>80995</td>\n",
       "    </tr>\n",
       "    <tr>\n",
       "      <th>2051</th>\n",
       "      <td>MEDIUM CERAMIC TOP STORAGE JAR</td>\n",
       "      <td>78033</td>\n",
       "    </tr>\n",
       "    <tr>\n",
       "      <th>3933</th>\n",
       "      <td>WORLD WAR 2 GLIDERS ASSTD DESIGNS</td>\n",
       "      <td>54951</td>\n",
       "    </tr>\n",
       "    <tr>\n",
       "      <th>1815</th>\n",
       "      <td>JUMBO BAG RED RETROSPOT</td>\n",
       "      <td>48371</td>\n",
       "    </tr>\n",
       "    <tr>\n",
       "      <th>3843</th>\n",
       "      <td>WHITE HANGING HEART T-LIGHT HOLDER</td>\n",
       "      <td>37872</td>\n",
       "    </tr>\n",
       "  </tbody>\n",
       "</table>\n",
       "</div>"
      ],
      "text/plain": [
       "                             Description  Quantity\n",
       "2386         PAPER CRAFT , LITTLE BIRDIE     80995\n",
       "2051      MEDIUM CERAMIC TOP STORAGE JAR     78033\n",
       "3933   WORLD WAR 2 GLIDERS ASSTD DESIGNS     54951\n",
       "1815             JUMBO BAG RED RETROSPOT     48371\n",
       "3843  WHITE HANGING HEART T-LIGHT HOLDER     37872"
      ]
     },
     "execution_count": 332,
     "metadata": {},
     "output_type": "execute_result"
    }
   ],
   "source": [
    "soldMost = soldMost.sort_values('Quantity',ascending = False ).head(5) #the data was big for products so i have\n",
    "#just got results for top 10\n",
    "soldMost"
   ]
  },
  {
   "cell_type": "code",
   "execution_count": 333,
   "id": "ba42d549",
   "metadata": {},
   "outputs": [
    {
     "data": {
      "image/png": "[encoded data removed]",
      "text/plain": [
       "<Figure size 720x360 with 1 Axes>"
      ]
     },
     "metadata": {},
     "output_type": "display_data"
    }
   ],
   "source": [
    "#Choosing Palette and reverse it\n",
    "Palette = sns.color_palette('Blues_d')\n",
    "Palette.reverse()\n",
    "\n",
    "plt.figure(figsize = (10,5))\n",
    "#Visualizing \n",
    "ax =sns.barplot(y = 'Description' , x= 'Quantity' , data = soldMost, palette = Palette)\n",
    "\n",
    "#Data labels\n",
    "ax.bar_label(ax.containers[0])\n",
    "\n",
    "#Setting Title\n",
    "plt.title('Products with Highest Quantites Sold')\n",
    "plt.ylabel('Product Description')\n",
    "plt.show()"
   ]
  },
  {
   "cell_type": "markdown",
   "id": "e86253d2",
   "metadata": {},
   "source": [
    "Analysis : We can see that these items are sold the most from the company's website, out of them Paper Craft are sold most with approx 81k quantity"
   ]
  },
  {
   "cell_type": "markdown",
   "id": "fe3782f0",
   "metadata": {},
   "source": [
    "#### 4) Which countries have more customers?"
   ]
  },
  {
   "cell_type": "code",
   "execution_count": 334,
   "id": "2a076194",
   "metadata": {},
   "outputs": [],
   "source": [
    "custCountry = data['Country'].value_counts().reset_index(drop = False).head(10)\n",
    "custCountry.columns = ['Country','Counts'] # renaming the columns"
   ]
  },
  {
   "cell_type": "code",
   "execution_count": 335,
   "id": "ccd0fd56",
   "metadata": {},
   "outputs": [
    {
     "data": {
      "image/png": "[encoded data removed]",
      "text/plain": [
       "<Figure size 1440x720 with 1 Axes>"
      ]
     },
     "metadata": {},
     "output_type": "display_data"
    }
   ],
   "source": [
    "plt.figure(figsize = (20,10))\n",
    "ax =sns.barplot(x= 'Country', y = 'Counts'  , data = custCountry, palette = 'coolwarm')\n",
    "ax.bar_label(ax.containers[0])\n",
    "plt.title(\"Customer Distribution Country-Wise\",fontsize=20)\n",
    "plt.ylabel(\"Orders\",fontsize = 16)\n",
    "plt.xlabel('Country',fontsize = 16)\n",
    "plt.xticks(fontsize = 14)\n",
    "plt.yscale('log')"
   ]
  },
  {
   "cell_type": "markdown",
   "id": "a7c6cfe7",
   "metadata": {},
   "source": [
    "#### 4) which day has more number of sales?"
   ]
  },
  {
   "cell_type": "code",
   "execution_count": 336,
   "id": "e1588126",
   "metadata": {},
   "outputs": [
    {
     "data": {
      "text/html": [
       "<div>\n",
       "<style scoped>\n",
       "    .dataframe tbody tr th:only-of-type {\n",
       "        vertical-align: middle;\n",
       "    }\n",
       "\n",
       "    .dataframe tbody tr th {\n",
       "        vertical-align: top;\n",
       "    }\n",
       "\n",
       "    .dataframe thead th {\n",
       "        text-align: right;\n",
       "    }\n",
       "</style>\n",
       "<table border=\"1\" class=\"dataframe\">\n",
       "  <thead>\n",
       "    <tr style=\"text-align: right;\">\n",
       "      <th></th>\n",
       "      <th>Day</th>\n",
       "      <th>Sales</th>\n",
       "    </tr>\n",
       "  </thead>\n",
       "  <tbody>\n",
       "    <tr>\n",
       "      <th>0</th>\n",
       "      <td>Friday</td>\n",
       "      <td>79666</td>\n",
       "    </tr>\n",
       "    <tr>\n",
       "      <th>1</th>\n",
       "      <td>Monday</td>\n",
       "      <td>92466</td>\n",
       "    </tr>\n",
       "    <tr>\n",
       "      <th>2</th>\n",
       "      <td>Sunday</td>\n",
       "      <td>62339</td>\n",
       "    </tr>\n",
       "    <tr>\n",
       "      <th>3</th>\n",
       "      <td>Thursday</td>\n",
       "      <td>100213</td>\n",
       "    </tr>\n",
       "    <tr>\n",
       "      <th>4</th>\n",
       "      <td>Tuesday</td>\n",
       "      <td>98726</td>\n",
       "    </tr>\n",
       "    <tr>\n",
       "      <th>5</th>\n",
       "      <td>Wednesday</td>\n",
       "      <td>91467</td>\n",
       "    </tr>\n",
       "  </tbody>\n",
       "</table>\n",
       "</div>"
      ],
      "text/plain": [
       "         Day   Sales\n",
       "0     Friday   79666\n",
       "1     Monday   92466\n",
       "2     Sunday   62339\n",
       "3   Thursday  100213\n",
       "4    Tuesday   98726\n",
       "5  Wednesday   91467"
      ]
     },
     "execution_count": 336,
     "metadata": {},
     "output_type": "execute_result"
    }
   ],
   "source": [
    "daySales = data.groupby('Day').count()[['InvoiceNo']].reset_index()\n",
    "daySales.columns = ['Day','Sales']\n",
    "daySales.sort_values(by='Day')"
   ]
  },
  {
   "cell_type": "code",
   "execution_count": 337,
   "id": "ac5e8669",
   "metadata": {},
   "outputs": [
    {
     "data": {
      "image/png": "[encoded data removed]",
      "text/plain": [
       "<Figure size 720x360 with 1 Axes>"
      ]
     },
     "metadata": {},
     "output_type": "display_data"
    }
   ],
   "source": [
    "#Choosing Palette and reverse it\n",
    "Palette = sns.color_palette('Blues_d')\n",
    "Palette.reverse()\n",
    "\n",
    "plt.figure(figsize = (10,5))\n",
    "#Visualizing \n",
    "ax =sns.barplot(y = 'Day' , x= 'Sales' , data = daySales, palette = Palette)\n",
    "\n",
    "#Data labels\n",
    "ax.bar_label(ax.containers[0])\n",
    "\n",
    "#Setting Title\n",
    "plt.title('Distribution of Sales Day-Wise',fontsize = 16)\n",
    "plt.ylabel('Days',fontsize = 16)\n",
    "plt.xlabel('Sales',fontsize = 16)\n",
    "plt.show()"
   ]
  },
  {
   "cell_type": "markdown",
   "id": "6e0c814d",
   "metadata": {},
   "source": [
    "### RMF Analysis"
   ]
  },
  {
   "cell_type": "markdown",
   "id": "ba1454ba",
   "metadata": {},
   "source": [
    "As a algorithm the RFM was used, for being an easy-to-understand model.\n",
    "\n",
    "The term RFM comes from the function of three acronyms: Recency, Frequency, and Monetary, seeking to better understand the customer and verify when was his last purchase, how many times he has bought and how much he has spent with the company.\n",
    "\n",
    "Recency(R) Days since the customer's last purchase Frequency(F) Number of products bought by the customer Monetarity(M) Total spent on purchases\n",
    "\n",
    "Customer Score:\n",
    "\n",
    "The customer score ranges from 1 to 5, where the higher this number, the better. This score is assigned for each acronym independently:\n",
    "\n",
    "The more recent the customer's purchase the higher the Recency (R) score.\n",
    "\n",
    "The more purchases the customer makes, the higher the Frequency score (F)\n",
    "\n",
    "The more the customer spends on purchases, the higher the score the customer will have Monetarity(M) This definition of each score can be given through inference, i.e. some business definition or by quintile."
   ]
  },
  {
   "cell_type": "code",
   "execution_count": 338,
   "id": "e7380171",
   "metadata": {},
   "outputs": [],
   "source": [
    "#Ignoring Cancel orders\n",
    "copy[~copy['InvoiceNo'].str.contains('C' ,na = False)]\n",
    "\n",
    "#Dropping Null values in Customer ID column\n",
    "copy= copy.dropna(subset= ['CustomerID'])\n",
    "\n",
    "#Make Checkoutprice Column\n",
    "copy['CheckoutPrice'] = copy['UnitPrice'] * copy['Quantity']\n",
    "\n",
    "#Ignoring Debts\n",
    "copy =copy[copy['UnitPrice']>0]\n",
    "\n",
    "#Dealing with datatypes\n",
    "copy['InvoiceDate'] = pd.to_datetime(copy['InvoiceDate'])\n",
    "copy['CustomerID'] = copy['CustomerID'].astype('int64')"
   ]
  },
  {
   "cell_type": "code",
   "execution_count": 339,
   "id": "1fba76c4",
   "metadata": {},
   "outputs": [],
   "source": [
    "recent_date = copy['InvoiceDate'].max()"
   ]
  },
  {
   "cell_type": "code",
   "execution_count": 341,
   "id": "6599a8e4",
   "metadata": {},
   "outputs": [
    {
     "data": {
      "text/html": [
       "<div>\n",
       "<style scoped>\n",
       "    .dataframe tbody tr th:only-of-type {\n",
       "        vertical-align: middle;\n",
       "    }\n",
       "\n",
       "    .dataframe tbody tr th {\n",
       "        vertical-align: top;\n",
       "    }\n",
       "\n",
       "    .dataframe thead th {\n",
       "        text-align: right;\n",
       "    }\n",
       "</style>\n",
       "<table border=\"1\" class=\"dataframe\">\n",
       "  <thead>\n",
       "    <tr style=\"text-align: right;\">\n",
       "      <th></th>\n",
       "      <th>InvoiceDate</th>\n",
       "      <th>InvoiceNo</th>\n",
       "      <th>CheckoutPrice</th>\n",
       "    </tr>\n",
       "    <tr>\n",
       "      <th>CustomerID</th>\n",
       "      <th></th>\n",
       "      <th></th>\n",
       "      <th></th>\n",
       "    </tr>\n",
       "  </thead>\n",
       "  <tbody>\n",
       "    <tr>\n",
       "      <th>12346</th>\n",
       "      <td>325</td>\n",
       "      <td>2</td>\n",
       "      <td>0.00</td>\n",
       "    </tr>\n",
       "    <tr>\n",
       "      <th>12347</th>\n",
       "      <td>1</td>\n",
       "      <td>7</td>\n",
       "      <td>4310.00</td>\n",
       "    </tr>\n",
       "    <tr>\n",
       "      <th>12348</th>\n",
       "      <td>74</td>\n",
       "      <td>4</td>\n",
       "      <td>1797.24</td>\n",
       "    </tr>\n",
       "    <tr>\n",
       "      <th>12349</th>\n",
       "      <td>18</td>\n",
       "      <td>1</td>\n",
       "      <td>1757.55</td>\n",
       "    </tr>\n",
       "    <tr>\n",
       "      <th>12350</th>\n",
       "      <td>309</td>\n",
       "      <td>1</td>\n",
       "      <td>334.40</td>\n",
       "    </tr>\n",
       "    <tr>\n",
       "      <th>...</th>\n",
       "      <td>...</td>\n",
       "      <td>...</td>\n",
       "      <td>...</td>\n",
       "    </tr>\n",
       "    <tr>\n",
       "      <th>18280</th>\n",
       "      <td>277</td>\n",
       "      <td>1</td>\n",
       "      <td>180.60</td>\n",
       "    </tr>\n",
       "    <tr>\n",
       "      <th>18281</th>\n",
       "      <td>180</td>\n",
       "      <td>1</td>\n",
       "      <td>80.82</td>\n",
       "    </tr>\n",
       "    <tr>\n",
       "      <th>18282</th>\n",
       "      <td>7</td>\n",
       "      <td>3</td>\n",
       "      <td>176.60</td>\n",
       "    </tr>\n",
       "    <tr>\n",
       "      <th>18283</th>\n",
       "      <td>3</td>\n",
       "      <td>16</td>\n",
       "      <td>2045.53</td>\n",
       "    </tr>\n",
       "    <tr>\n",
       "      <th>18287</th>\n",
       "      <td>42</td>\n",
       "      <td>3</td>\n",
       "      <td>1837.28</td>\n",
       "    </tr>\n",
       "  </tbody>\n",
       "</table>\n",
       "<p>4371 rows × 3 columns</p>\n",
       "</div>"
      ],
      "text/plain": [
       "            InvoiceDate  InvoiceNo  CheckoutPrice\n",
       "CustomerID                                       \n",
       "12346               325          2           0.00\n",
       "12347                 1          7        4310.00\n",
       "12348                74          4        1797.24\n",
       "12349                18          1        1757.55\n",
       "12350               309          1         334.40\n",
       "...                 ...        ...            ...\n",
       "18280               277          1         180.60\n",
       "18281               180          1          80.82\n",
       "18282                 7          3         176.60\n",
       "18283                 3         16        2045.53\n",
       "18287                42          3        1837.28\n",
       "\n",
       "[4371 rows x 3 columns]"
      ]
     },
     "execution_count": 341,
     "metadata": {},
     "output_type": "execute_result"
    }
   ],
   "source": [
    "#Set our data to rfm Analysis\n",
    "rfm = copy.groupby('CustomerID').agg({'InvoiceDate' : lambda date : (recent_date - date.max()).days ,\n",
    "                                      'InvoiceNo' : lambda num :num.nunique() ,\n",
    "                                      'CheckoutPrice' : lambda CheckoutPrice :CheckoutPrice.sum()} )\n",
    "rfm"
   ]
  },
  {
   "cell_type": "code",
   "execution_count": 342,
   "id": "094bca67",
   "metadata": {},
   "outputs": [],
   "source": [
    "rfm.columns = ['Recency' ,'Frequency' , 'Monetary']"
   ]
  },
  {
   "cell_type": "code",
   "execution_count": 343,
   "id": "da6bc299",
   "metadata": {},
   "outputs": [],
   "source": [
    "#Ignore 0 in Monatery so we will not need those customers in our analysis \n",
    "rfm = rfm[rfm['Monetary']>0]"
   ]
  },
  {
   "cell_type": "code",
   "execution_count": 344,
   "id": "db2de1b8",
   "metadata": {},
   "outputs": [],
   "source": [
    "#Set Recency Score\n",
    "rfm['Recency_Score'] = pd.qcut(rfm['Recency'] ,5 , labels= [5,4,3,2,1])"
   ]
  },
  {
   "cell_type": "code",
   "execution_count": 345,
   "id": "34d99c40",
   "metadata": {},
   "outputs": [],
   "source": [
    "#Set Frequency Score\n",
    "rfm['Frequency_Score'] = pd.qcut(rfm['Frequency'].rank(method ='first') ,5 , labels= [1,2,3,4,5])"
   ]
  },
  {
   "cell_type": "code",
   "execution_count": 346,
   "id": "f1485c82",
   "metadata": {},
   "outputs": [],
   "source": [
    "#Set Monatry Score\n",
    "rfm['Monetary_Score'] = pd.qcut(rfm['Monetary'] ,5 , labels= [1,2,3,4,5])"
   ]
  },
  {
   "cell_type": "code",
   "execution_count": 347,
   "id": "019a1fd7",
   "metadata": {},
   "outputs": [],
   "source": [
    "#Set RFM Score\n",
    "rfm['RFM_Score'] = (rfm['Recency_Score'].astype(str) + rfm['Frequency_Score'].astype(str) + \n",
    "                    rfm['Monetary_Score'].astype(str) )"
   ]
  },
  {
   "cell_type": "code",
   "execution_count": 348,
   "id": "928c1e30",
   "metadata": {},
   "outputs": [
    {
     "data": {
      "text/html": [
       "<div>\n",
       "<style scoped>\n",
       "    .dataframe tbody tr th:only-of-type {\n",
       "        vertical-align: middle;\n",
       "    }\n",
       "\n",
       "    .dataframe tbody tr th {\n",
       "        vertical-align: top;\n",
       "    }\n",
       "\n",
       "    .dataframe thead th {\n",
       "        text-align: right;\n",
       "    }\n",
       "</style>\n",
       "<table border=\"1\" class=\"dataframe\">\n",
       "  <thead>\n",
       "    <tr style=\"text-align: right;\">\n",
       "      <th></th>\n",
       "      <th>Recency</th>\n",
       "      <th>Frequency</th>\n",
       "      <th>Monetary</th>\n",
       "      <th>Recency_Score</th>\n",
       "      <th>Frequency_Score</th>\n",
       "      <th>Monetary_Score</th>\n",
       "      <th>RFM_Score</th>\n",
       "    </tr>\n",
       "    <tr>\n",
       "      <th>CustomerID</th>\n",
       "      <th></th>\n",
       "      <th></th>\n",
       "      <th></th>\n",
       "      <th></th>\n",
       "      <th></th>\n",
       "      <th></th>\n",
       "      <th></th>\n",
       "    </tr>\n",
       "  </thead>\n",
       "  <tbody>\n",
       "    <tr>\n",
       "      <th>12347</th>\n",
       "      <td>1</td>\n",
       "      <td>7</td>\n",
       "      <td>4310.00</td>\n",
       "      <td>5</td>\n",
       "      <td>4</td>\n",
       "      <td>5</td>\n",
       "      <td>545</td>\n",
       "    </tr>\n",
       "    <tr>\n",
       "      <th>12348</th>\n",
       "      <td>74</td>\n",
       "      <td>4</td>\n",
       "      <td>1797.24</td>\n",
       "      <td>2</td>\n",
       "      <td>3</td>\n",
       "      <td>4</td>\n",
       "      <td>234</td>\n",
       "    </tr>\n",
       "    <tr>\n",
       "      <th>12349</th>\n",
       "      <td>18</td>\n",
       "      <td>1</td>\n",
       "      <td>1757.55</td>\n",
       "      <td>4</td>\n",
       "      <td>1</td>\n",
       "      <td>4</td>\n",
       "      <td>414</td>\n",
       "    </tr>\n",
       "    <tr>\n",
       "      <th>12350</th>\n",
       "      <td>309</td>\n",
       "      <td>1</td>\n",
       "      <td>334.40</td>\n",
       "      <td>1</td>\n",
       "      <td>1</td>\n",
       "      <td>2</td>\n",
       "      <td>112</td>\n",
       "    </tr>\n",
       "    <tr>\n",
       "      <th>12352</th>\n",
       "      <td>35</td>\n",
       "      <td>11</td>\n",
       "      <td>1545.41</td>\n",
       "      <td>3</td>\n",
       "      <td>5</td>\n",
       "      <td>4</td>\n",
       "      <td>354</td>\n",
       "    </tr>\n",
       "    <tr>\n",
       "      <th>...</th>\n",
       "      <td>...</td>\n",
       "      <td>...</td>\n",
       "      <td>...</td>\n",
       "      <td>...</td>\n",
       "      <td>...</td>\n",
       "      <td>...</td>\n",
       "      <td>...</td>\n",
       "    </tr>\n",
       "    <tr>\n",
       "      <th>18280</th>\n",
       "      <td>277</td>\n",
       "      <td>1</td>\n",
       "      <td>180.60</td>\n",
       "      <td>1</td>\n",
       "      <td>2</td>\n",
       "      <td>1</td>\n",
       "      <td>121</td>\n",
       "    </tr>\n",
       "    <tr>\n",
       "      <th>18281</th>\n",
       "      <td>180</td>\n",
       "      <td>1</td>\n",
       "      <td>80.82</td>\n",
       "      <td>1</td>\n",
       "      <td>2</td>\n",
       "      <td>1</td>\n",
       "      <td>121</td>\n",
       "    </tr>\n",
       "    <tr>\n",
       "      <th>18282</th>\n",
       "      <td>7</td>\n",
       "      <td>3</td>\n",
       "      <td>176.60</td>\n",
       "      <td>5</td>\n",
       "      <td>3</td>\n",
       "      <td>1</td>\n",
       "      <td>531</td>\n",
       "    </tr>\n",
       "    <tr>\n",
       "      <th>18283</th>\n",
       "      <td>3</td>\n",
       "      <td>16</td>\n",
       "      <td>2045.53</td>\n",
       "      <td>5</td>\n",
       "      <td>5</td>\n",
       "      <td>5</td>\n",
       "      <td>555</td>\n",
       "    </tr>\n",
       "    <tr>\n",
       "      <th>18287</th>\n",
       "      <td>42</td>\n",
       "      <td>3</td>\n",
       "      <td>1837.28</td>\n",
       "      <td>3</td>\n",
       "      <td>3</td>\n",
       "      <td>4</td>\n",
       "      <td>334</td>\n",
       "    </tr>\n",
       "  </tbody>\n",
       "</table>\n",
       "<p>4320 rows × 7 columns</p>\n",
       "</div>"
      ],
      "text/plain": [
       "            Recency  Frequency  Monetary Recency_Score Frequency_Score  \\\n",
       "CustomerID                                                               \n",
       "12347             1          7   4310.00             5               4   \n",
       "12348            74          4   1797.24             2               3   \n",
       "12349            18          1   1757.55             4               1   \n",
       "12350           309          1    334.40             1               1   \n",
       "12352            35         11   1545.41             3               5   \n",
       "...             ...        ...       ...           ...             ...   \n",
       "18280           277          1    180.60             1               2   \n",
       "18281           180          1     80.82             1               2   \n",
       "18282             7          3    176.60             5               3   \n",
       "18283             3         16   2045.53             5               5   \n",
       "18287            42          3   1837.28             3               3   \n",
       "\n",
       "           Monetary_Score RFM_Score  \n",
       "CustomerID                           \n",
       "12347                   5       545  \n",
       "12348                   4       234  \n",
       "12349                   4       414  \n",
       "12350                   2       112  \n",
       "12352                   4       354  \n",
       "...                   ...       ...  \n",
       "18280                   1       121  \n",
       "18281                   1       121  \n",
       "18282                   1       531  \n",
       "18283                   5       555  \n",
       "18287                   4       334  \n",
       "\n",
       "[4320 rows x 7 columns]"
      ]
     },
     "execution_count": 348,
     "metadata": {},
     "output_type": "execute_result"
    }
   ],
   "source": [
    "rfm"
   ]
  },
  {
   "cell_type": "markdown",
   "id": "0b3ea5ad",
   "metadata": {},
   "source": [
    "Segmentation calculation:\n",
    "\n",
    "The calculation to know which segmentation the customer is in is given by averaging the F and R scores\n",
    "\n",
    "I see that Monetary could be deceptive , So i will segment our customers on Recency and Frequency Scores"
   ]
  },
  {
   "cell_type": "code",
   "execution_count": 349,
   "id": "1d15fbf8",
   "metadata": {},
   "outputs": [],
   "source": [
    "#Our Customer Segmentation\n",
    "seg_map = {\n",
    "    r'[1-2][1-2][1-5]': 'Hibernating',\n",
    "    r'[1-2][3-4][1-5]': 'At risk',\n",
    "    r'[1-2]5[1-5]' :'Cannot lose them',\n",
    "    r'3[1-2][1-5]' : 'About to sleep',\n",
    "    r'33[1-5]' : 'Need Attention',\n",
    "    r'[3-4][4-5][1-5]' : 'Loyal Customers',\n",
    "    r'[4-5][1-3][1-5]' : 'Good Potential',\n",
    "    r'5[4-5][1-5]' : 'Champions',\n",
    "\n",
    "}\n",
    "rfm['Segment'] = rfm['RFM_Score'] .replace(seg_map ,regex =True)\n"
   ]
  },
  {
   "cell_type": "code",
   "execution_count": 350,
   "id": "f00528cd",
   "metadata": {},
   "outputs": [
    {
     "data": {
      "image/png": "[encoded data removed]",
      "text/plain": [
       "<Figure size 432x288 with 1 Axes>"
      ]
     },
     "metadata": {},
     "output_type": "display_data"
    }
   ],
   "source": [
    "#Bar Plot for Our segments\n",
    "Segments = (rfm['Segment'].value_counts(normalize=True)* 100).reset_index(name='percentage')\n",
    "Segments = Segments.round(1)\n",
    "b =sns.barplot(y='index',x='percentage', data=Segments, palette = 'crest_r')\n",
    "for i, v in enumerate(Segments['percentage']):\n",
    "    b.text(v,i+0.20,\"  {:.1f}\".format(v)+\"%\", color='black', ha=\"left\")\n",
    "    b.set_ylabel('Segmentation')\n",
    "    b.set_title('Customer Segmentation')"
   ]
  },
  {
   "cell_type": "code",
   "execution_count": 351,
   "id": "e98ac670",
   "metadata": {},
   "outputs": [
    {
     "data": {
      "text/html": [
       "<div>\n",
       "<style scoped>\n",
       "    .dataframe tbody tr th:only-of-type {\n",
       "        vertical-align: middle;\n",
       "    }\n",
       "\n",
       "    .dataframe tbody tr th {\n",
       "        vertical-align: top;\n",
       "    }\n",
       "\n",
       "    .dataframe thead th {\n",
       "        text-align: right;\n",
       "    }\n",
       "</style>\n",
       "<table border=\"1\" class=\"dataframe\">\n",
       "  <thead>\n",
       "    <tr style=\"text-align: right;\">\n",
       "      <th></th>\n",
       "      <th>Recency</th>\n",
       "      <th>Frequency</th>\n",
       "      <th>Monetary</th>\n",
       "      <th>Recency_Score</th>\n",
       "      <th>Frequency_Score</th>\n",
       "      <th>Monetary_Score</th>\n",
       "      <th>RFM_Score</th>\n",
       "      <th>Segment</th>\n",
       "    </tr>\n",
       "    <tr>\n",
       "      <th>CustomerID</th>\n",
       "      <th></th>\n",
       "      <th></th>\n",
       "      <th></th>\n",
       "      <th></th>\n",
       "      <th></th>\n",
       "      <th></th>\n",
       "      <th></th>\n",
       "      <th></th>\n",
       "    </tr>\n",
       "  </thead>\n",
       "  <tbody>\n",
       "    <tr>\n",
       "      <th>12347</th>\n",
       "      <td>1</td>\n",
       "      <td>7</td>\n",
       "      <td>4310.00</td>\n",
       "      <td>5</td>\n",
       "      <td>4</td>\n",
       "      <td>5</td>\n",
       "      <td>545</td>\n",
       "      <td>Champions</td>\n",
       "    </tr>\n",
       "    <tr>\n",
       "      <th>12348</th>\n",
       "      <td>74</td>\n",
       "      <td>4</td>\n",
       "      <td>1797.24</td>\n",
       "      <td>2</td>\n",
       "      <td>3</td>\n",
       "      <td>4</td>\n",
       "      <td>234</td>\n",
       "      <td>At risk</td>\n",
       "    </tr>\n",
       "    <tr>\n",
       "      <th>12349</th>\n",
       "      <td>18</td>\n",
       "      <td>1</td>\n",
       "      <td>1757.55</td>\n",
       "      <td>4</td>\n",
       "      <td>1</td>\n",
       "      <td>4</td>\n",
       "      <td>414</td>\n",
       "      <td>Good Potential</td>\n",
       "    </tr>\n",
       "    <tr>\n",
       "      <th>12350</th>\n",
       "      <td>309</td>\n",
       "      <td>1</td>\n",
       "      <td>334.40</td>\n",
       "      <td>1</td>\n",
       "      <td>1</td>\n",
       "      <td>2</td>\n",
       "      <td>112</td>\n",
       "      <td>Hibernating</td>\n",
       "    </tr>\n",
       "    <tr>\n",
       "      <th>12352</th>\n",
       "      <td>35</td>\n",
       "      <td>11</td>\n",
       "      <td>1545.41</td>\n",
       "      <td>3</td>\n",
       "      <td>5</td>\n",
       "      <td>4</td>\n",
       "      <td>354</td>\n",
       "      <td>Loyal Customers</td>\n",
       "    </tr>\n",
       "    <tr>\n",
       "      <th>...</th>\n",
       "      <td>...</td>\n",
       "      <td>...</td>\n",
       "      <td>...</td>\n",
       "      <td>...</td>\n",
       "      <td>...</td>\n",
       "      <td>...</td>\n",
       "      <td>...</td>\n",
       "      <td>...</td>\n",
       "    </tr>\n",
       "    <tr>\n",
       "      <th>18280</th>\n",
       "      <td>277</td>\n",
       "      <td>1</td>\n",
       "      <td>180.60</td>\n",
       "      <td>1</td>\n",
       "      <td>2</td>\n",
       "      <td>1</td>\n",
       "      <td>121</td>\n",
       "      <td>Hibernating</td>\n",
       "    </tr>\n",
       "    <tr>\n",
       "      <th>18281</th>\n",
       "      <td>180</td>\n",
       "      <td>1</td>\n",
       "      <td>80.82</td>\n",
       "      <td>1</td>\n",
       "      <td>2</td>\n",
       "      <td>1</td>\n",
       "      <td>121</td>\n",
       "      <td>Hibernating</td>\n",
       "    </tr>\n",
       "    <tr>\n",
       "      <th>18282</th>\n",
       "      <td>7</td>\n",
       "      <td>3</td>\n",
       "      <td>176.60</td>\n",
       "      <td>5</td>\n",
       "      <td>3</td>\n",
       "      <td>1</td>\n",
       "      <td>531</td>\n",
       "      <td>Good Potential</td>\n",
       "    </tr>\n",
       "    <tr>\n",
       "      <th>18283</th>\n",
       "      <td>3</td>\n",
       "      <td>16</td>\n",
       "      <td>2045.53</td>\n",
       "      <td>5</td>\n",
       "      <td>5</td>\n",
       "      <td>5</td>\n",
       "      <td>555</td>\n",
       "      <td>Champions</td>\n",
       "    </tr>\n",
       "    <tr>\n",
       "      <th>18287</th>\n",
       "      <td>42</td>\n",
       "      <td>3</td>\n",
       "      <td>1837.28</td>\n",
       "      <td>3</td>\n",
       "      <td>3</td>\n",
       "      <td>4</td>\n",
       "      <td>334</td>\n",
       "      <td>Need Attention</td>\n",
       "    </tr>\n",
       "  </tbody>\n",
       "</table>\n",
       "<p>4320 rows × 8 columns</p>\n",
       "</div>"
      ],
      "text/plain": [
       "            Recency  Frequency  Monetary Recency_Score Frequency_Score  \\\n",
       "CustomerID                                                               \n",
       "12347             1          7   4310.00             5               4   \n",
       "12348            74          4   1797.24             2               3   \n",
       "12349            18          1   1757.55             4               1   \n",
       "12350           309          1    334.40             1               1   \n",
       "12352            35         11   1545.41             3               5   \n",
       "...             ...        ...       ...           ...             ...   \n",
       "18280           277          1    180.60             1               2   \n",
       "18281           180          1     80.82             1               2   \n",
       "18282             7          3    176.60             5               3   \n",
       "18283             3         16   2045.53             5               5   \n",
       "18287            42          3   1837.28             3               3   \n",
       "\n",
       "           Monetary_Score RFM_Score          Segment  \n",
       "CustomerID                                            \n",
       "12347                   5       545        Champions  \n",
       "12348                   4       234          At risk  \n",
       "12349                   4       414   Good Potential  \n",
       "12350                   2       112      Hibernating  \n",
       "12352                   4       354  Loyal Customers  \n",
       "...                   ...       ...              ...  \n",
       "18280                   1       121      Hibernating  \n",
       "18281                   1       121      Hibernating  \n",
       "18282                   1       531   Good Potential  \n",
       "18283                   5       555        Champions  \n",
       "18287                   4       334   Need Attention  \n",
       "\n",
       "[4320 rows x 8 columns]"
      ]
     },
     "execution_count": 351,
     "metadata": {},
     "output_type": "execute_result"
    }
   ],
   "source": [
    "rfm"
   ]
  },
  {
   "cell_type": "markdown",
   "id": "961ccb48",
   "metadata": {},
   "source": [
    "### Findings"
   ]
  },
  {
   "cell_type": "markdown",
   "id": "230daa94",
   "metadata": {},
   "source": [
    "24.1% of our customers are in the hibernation segment and that for customers who have purchased from us a few times and the last time was a long time\n",
    "\n",
    "18.4% of our customers are loyal and usually buys from us\n",
    "\n",
    "14.8% of our customers are champions so we are their favourtie market\n",
    "\n",
    "14.4% of our customers have good potential that refers to customers who have bought from us recently and have not buy many times\n",
    "\n",
    "14.1% of our cutomeers are at risk segment so we must attract them again\n",
    "\n",
    "8.4% of our customers are about to sleep and this segment of customers who last purchase from us for a fairly long time\n",
    "\n",
    "4.2% of our customers are needing more attention to make them fall under Champions segment\n",
    "\n",
    "1.6% of our customers can`t lost them and they purchased from us many times but last time was for a long time"
   ]
  },
  {
   "cell_type": "code",
   "execution_count": null,
   "id": "6bc0a1a1",
   "metadata": {},
   "outputs": [],
   "source": []
  }
 ],
 "metadata": {
  "kernelspec": {
   "display_name": "Python 3 (ipykernel)",
   "language": "python",
   "name": "python3"
  },
  "language_info": {
   "codemirror_mode": {
    "name": "ipython",
    "version": 3
   },
   "file_extension": ".py",
   "mimetype": "text/x-python",
   "name": "python",
   "nbconvert_exporter": "python",
   "pygments_lexer": "ipython3",
   "version": "3.9.12"
  }
 },
 "nbformat": 4,
 "nbformat_minor": 5
}
